{
 "cells": [
  {
   "cell_type": "code",
   "execution_count": 62,
   "id": "73b19246-53a9-4145-bf21-61810c929ad9",
   "metadata": {},
   "outputs": [],
   "source": [
    "import requests\n",
    "from bs4 import BeautifulSoup\n",
    "import pandas as pd"
   ]
  },
  {
   "cell_type": "code",
   "execution_count": 63,
   "id": "51b20ffc-d565-4dc4-9992-95767fe56cb1",
   "metadata": {},
   "outputs": [
    {
     "data": {
      "text/plain": [
       "Timestamp('1989-09-01 00:00:00')"
      ]
     },
     "execution_count": 63,
     "metadata": {},
     "output_type": "execute_result"
    }
   ],
   "source": [
    "page = requests.get('https://dc.fandom.com/wiki/Detective_Comics_Annual_Vol_1_2')\n",
    "\n",
    "soup = BeautifulSoup(page.text, 'html5lib')\n",
    "title = soup.h1.text\n",
    "title.replace('\\n', '').replace('\\t', '')\n",
    "date = soup.find('aside').find('h2').next_sibling.next_sibling.next_sibling.next_sibling.next_sibling.next_sibling.next_sibling.next_sibling.text\n",
    "pd.to_datetime(date)"
   ]
  },
  {
   "cell_type": "code",
   "execution_count": 59,
   "id": "22788097-5e14-4332-914d-1312a8cb0f38",
   "metadata": {},
   "outputs": [],
   "source": [
    "date = soup.find('aside').find('h2').next_sibling.next_sibling.next_sibling.next_sibling.next_sibling.next_sibling.next_sibling.next_sibling.text #h2 a').get(href)"
   ]
  },
  {
   "cell_type": "code",
   "execution_count": null,
   "id": "da0a0605-ba56-42d8-a2b3-27655f374ec6",
   "metadata": {},
   "outputs": [],
   "source": []
  }
 ],
 "metadata": {
  "kernelspec": {
   "display_name": "Python 3 (ipykernel)",
   "language": "python",
   "name": "python3"
  },
  "language_info": {
   "codemirror_mode": {
    "name": "ipython",
    "version": 3
   },
   "file_extension": ".py",
   "mimetype": "text/x-python",
   "name": "python",
   "nbconvert_exporter": "python",
   "pygments_lexer": "ipython3",
   "version": "3.9.7"
  }
 },
 "nbformat": 4,
 "nbformat_minor": 5
}
