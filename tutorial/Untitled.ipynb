{
 "cells": [
  {
   "cell_type": "code",
   "execution_count": 1,
   "id": "5c4c78ea-a8c7-4486-bb36-fd482f8dddda",
   "metadata": {},
   "outputs": [],
   "source": [
    "import pandas as pd\n",
    "from bs4 import BeautifulSoup\n",
    "import requests"
   ]
  },
  {
   "cell_type": "code",
   "execution_count": 2,
   "id": "93c5c7fa-02fe-4908-b931-35765031b968",
   "metadata": {},
   "outputs": [],
   "source": [
    "def addIssue(name, date, df):\n",
    "    #return {'comic': name, 'date': pd.to_datetime(date)}\n",
    "    df = df.append({'comic': name, 'date': pd.to_datetime(date)}, ignore_index=True).sort_values(by=['comic','date'])\n",
    "    return df\n",
    "\n",
    "'''def appendtodf(df, column):\n",
    "    return df.append(addIssue, ignore_index=True).sort_values(by=column)'''\n",
    "def addIssueTest(website, df):\n",
    "    page = requests.get(website)\n",
    "    soup = BeautifulSoup(page.text, 'html5lib')\n",
    "    title = soup.h1.text\n",
    "    title = title.replace('\\n', '').replace('\\t', '')\n",
    "    date = soup.find('aside').find('h2').next_sibling.next_sibling.next_sibling.next_sibling.next_sibling.next_sibling.next_sibling.next_sibling.text\n",
    "    date = pd.to_datetime(date)\n",
    "    df = df.append({'comic': title, 'date': pd.to_datetime(date)}, ignore_index=True).sort_values(by=['date']).drop_duplicates()\n",
    "    return df"
   ]
  },
  {
   "cell_type": "code",
   "execution_count": 3,
   "id": "f91b3df4-63fb-4d52-9084-2a6f3792e0ef",
   "metadata": {},
   "outputs": [],
   "source": [
    "issues = pd.read_json('issues.jl', lines=True)\n",
    "issues = addIssueTest('https://dc.fandom.com/wiki/Batman_Confidential_Vol_1_50', issues)"
   ]
  },
  {
   "cell_type": "code",
   "execution_count": 4,
   "id": "4a776bdf-0e40-4132-9f68-ff85e843ec0d",
   "metadata": {},
   "outputs": [
    {
     "data": {
      "text/html": [
       "<div>\n",
       "<style scoped>\n",
       "    .dataframe tbody tr th:only-of-type {\n",
       "        vertical-align: middle;\n",
       "    }\n",
       "\n",
       "    .dataframe tbody tr th {\n",
       "        vertical-align: top;\n",
       "    }\n",
       "\n",
       "    .dataframe thead th {\n",
       "        text-align: right;\n",
       "    }\n",
       "</style>\n",
       "<table border=\"1\" class=\"dataframe\">\n",
       "  <thead>\n",
       "    <tr style=\"text-align: right;\">\n",
       "      <th></th>\n",
       "      <th>comic</th>\n",
       "      <th>date</th>\n",
       "    </tr>\n",
       "  </thead>\n",
       "  <tbody>\n",
       "    <tr>\n",
       "      <th>0</th>\n",
       "      <td>Batman Confidential Vol 1 50</td>\n",
       "      <td>2011-01-01</td>\n",
       "    </tr>\n",
       "    <tr>\n",
       "      <th>1</th>\n",
       "      <td>Batman Confidential Vol 1 51</td>\n",
       "      <td>2011-02-01</td>\n",
       "    </tr>\n",
       "    <tr>\n",
       "      <th>3</th>\n",
       "      <td>Batman Confidential Vol 1 52</td>\n",
       "      <td>2011-03-01</td>\n",
       "    </tr>\n",
       "    <tr>\n",
       "      <th>4</th>\n",
       "      <td>Batman Confidential Vol 1 53</td>\n",
       "      <td>2011-04-01</td>\n",
       "    </tr>\n",
       "    <tr>\n",
       "      <th>2</th>\n",
       "      <td>Batman Confidential Vol 1 54</td>\n",
       "      <td>2011-05-01</td>\n",
       "    </tr>\n",
       "  </tbody>\n",
       "</table>\n",
       "</div>"
      ],
      "text/plain": [
       "                          comic       date\n",
       "0  Batman Confidential Vol 1 50 2011-01-01\n",
       "1  Batman Confidential Vol 1 51 2011-02-01\n",
       "3  Batman Confidential Vol 1 52 2011-03-01\n",
       "4  Batman Confidential Vol 1 53 2011-04-01\n",
       "2  Batman Confidential Vol 1 54 2011-05-01"
      ]
     },
     "execution_count": 4,
     "metadata": {},
     "output_type": "execute_result"
    }
   ],
   "source": [
    "issues"
   ]
  },
  {
   "cell_type": "code",
   "execution_count": null,
   "id": "03b62115-0ce9-4e44-85e8-a3e288edcfab",
   "metadata": {},
   "outputs": [],
   "source": []
  },
  {
   "cell_type": "code",
   "execution_count": null,
   "id": "f9c20893-8624-461e-af10-c567dcb47630",
   "metadata": {},
   "outputs": [],
   "source": []
  }
 ],
 "metadata": {
  "kernelspec": {
   "display_name": "Python 3 (ipykernel)",
   "language": "python",
   "name": "python3"
  },
  "language_info": {
   "codemirror_mode": {
    "name": "ipython",
    "version": 3
   },
   "file_extension": ".py",
   "mimetype": "text/x-python",
   "name": "python",
   "nbconvert_exporter": "python",
   "pygments_lexer": "ipython3",
   "version": "3.9.7"
  }
 },
 "nbformat": 4,
 "nbformat_minor": 5
}
